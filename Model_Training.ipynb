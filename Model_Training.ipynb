{
 "cells": [
  {
   "cell_type": "code",
   "execution_count": 3,
   "id": "8eaf7ae5",
   "metadata": {
    "ExecuteTime": {
     "end_time": "2022-12-04T19:41:51.517078Z",
     "start_time": "2022-12-04T19:41:49.860051Z"
    }
   },
   "outputs": [],
   "source": [
    "import pandas as pd\n",
    "import numpy as np\n",
    "import matplotlib.pyplot as plt\n",
    "import datetime\n",
    "import warnings\n",
    "import re\n",
    "import seaborn as sns\n",
    "warnings.filterwarnings('ignore')"
   ]
  },
  {
   "cell_type": "markdown",
   "id": "2ec9acd3",
   "metadata": {},
   "source": [
    "# ANALYTICS/MODEL BUILDING"
   ]
  },
  {
   "cell_type": "markdown",
   "id": "cfb1a768",
   "metadata": {},
   "source": [
    "## import analytical libraries"
   ]
  },
  {
   "cell_type": "code",
   "execution_count": 1,
   "id": "25fd4423",
   "metadata": {
    "ExecuteTime": {
     "end_time": "2022-12-04T19:41:51.736105Z",
     "start_time": "2022-12-04T19:41:51.518818Z"
    }
   },
   "outputs": [],
   "source": [
    "from sklearn.linear_model import LogisticRegression, LogisticRegressionCV\n",
    "from sklearn.tree import DecisionTreeClassifier, DecisionTreeRegressor\n",
    "from sklearn.model_selection import train_test_split\n",
    "\n",
    "from sklearn.metrics import accuracy_score, f1_score, r2_score, average_precision_score, roc_auc_score, mean_absolute_error, mean_squared_error\n",
    "from sklearn.metrics import plot_roc_curve, PrecisionRecallDisplay, ConfusionMatrixDisplay, confusion_matrix\n",
    "\n",
    "from sklearn.preprocessing import StandardScaler\n",
    "from sklearn.decomposition import PCA"
   ]
  },
  {
   "cell_type": "markdown",
   "id": "6711da61",
   "metadata": {},
   "source": [
    "## Read in data"
   ]
  },
  {
   "cell_type": "code",
   "execution_count": 4,
   "id": "e1cf0b3b",
   "metadata": {
    "ExecuteTime": {
     "end_time": "2022-12-04T19:41:51.972195Z",
     "start_time": "2022-12-04T19:41:51.738919Z"
    }
   },
   "outputs": [],
   "source": [
    "### Team level data (use recent 10 games average and official NBA elo rating data)\n",
    "recent_nba_elo_df = pd.read_csv('teams_recent_stats.csv', index_col = 0)\n",
    "\n",
    "### Team level data (use recent 10 games average and calculated NBA elo rating data)\n",
    "recent_team_elo_df = pd.read_csv('DATA_team_recent_team_elo.csv')#, index_col = 0)\n",
    "\n",
    "### player level aggregated data\n",
    "player_team = pd.read_csv('DATA_player_team2.csv')#, index_col=0)"
   ]
  },
  {
   "cell_type": "code",
   "execution_count": 5,
   "id": "fbc1dacb",
   "metadata": {
    "ExecuteTime": {
     "end_time": "2022-12-04T19:41:52.003244Z",
     "start_time": "2022-12-04T19:41:51.974871Z"
    }
   },
   "outputs": [
    {
     "data": {
      "text/html": [
       "<div>\n",
       "<style scoped>\n",
       "    .dataframe tbody tr th:only-of-type {\n",
       "        vertical-align: middle;\n",
       "    }\n",
       "\n",
       "    .dataframe tbody tr th {\n",
       "        vertical-align: top;\n",
       "    }\n",
       "\n",
       "    .dataframe thead th {\n",
       "        text-align: right;\n",
       "    }\n",
       "</style>\n",
       "<table border=\"1\" class=\"dataframe\">\n",
       "  <thead>\n",
       "    <tr style=\"text-align: right;\">\n",
       "      <th></th>\n",
       "      <th>SEASON_ID</th>\n",
       "      <th>GAME_ID</th>\n",
       "      <th>GAME_DATE</th>\n",
       "      <th>Team_Home</th>\n",
       "      <th>Team_Away</th>\n",
       "      <th>Home_Team_Won</th>\n",
       "      <th>H_Recent_OffRtg</th>\n",
       "      <th>H_Recent_DefRtg</th>\n",
       "      <th>H_Recent_NetRtg</th>\n",
       "      <th>H_Recent_AST%</th>\n",
       "      <th>...</th>\n",
       "      <th>A_Recent_PIE</th>\n",
       "      <th>A_Recent_FGM</th>\n",
       "      <th>A_Recent_FGA</th>\n",
       "      <th>A_Recent_FG_PCT</th>\n",
       "      <th>A_Recent_FG3M</th>\n",
       "      <th>A_Recent_FG3A</th>\n",
       "      <th>A_Recent_FG3_PCT</th>\n",
       "      <th>A_Recent_FTM</th>\n",
       "      <th>A_Recent_FTA</th>\n",
       "      <th>A_Recent_FT_PCT</th>\n",
       "    </tr>\n",
       "  </thead>\n",
       "  <tbody>\n",
       "    <tr>\n",
       "      <th>0</th>\n",
       "      <td>22022</td>\n",
       "      <td>22200315</td>\n",
       "      <td>11/30/2022</td>\n",
       "      <td>BKN</td>\n",
       "      <td>WAS</td>\n",
       "      <td>1</td>\n",
       "      <td>113.81</td>\n",
       "      <td>113.54</td>\n",
       "      <td>0.28</td>\n",
       "      <td>64.75</td>\n",
       "      <td>...</td>\n",
       "      <td>53.13</td>\n",
       "      <td>42.4</td>\n",
       "      <td>88.8</td>\n",
       "      <td>0.4786</td>\n",
       "      <td>13.5</td>\n",
       "      <td>35.6</td>\n",
       "      <td>0.3806</td>\n",
       "      <td>16.1</td>\n",
       "      <td>20.9</td>\n",
       "      <td>0.7661</td>\n",
       "    </tr>\n",
       "    <tr>\n",
       "      <th>1</th>\n",
       "      <td>22022</td>\n",
       "      <td>22200313</td>\n",
       "      <td>11/30/2022</td>\n",
       "      <td>ORL</td>\n",
       "      <td>ATL</td>\n",
       "      <td>0</td>\n",
       "      <td>108.54</td>\n",
       "      <td>115.23</td>\n",
       "      <td>-6.67</td>\n",
       "      <td>54.99</td>\n",
       "      <td>...</td>\n",
       "      <td>48.25</td>\n",
       "      <td>40.1</td>\n",
       "      <td>88.5</td>\n",
       "      <td>0.4543</td>\n",
       "      <td>9.2</td>\n",
       "      <td>29.3</td>\n",
       "      <td>0.3128</td>\n",
       "      <td>20.3</td>\n",
       "      <td>24.2</td>\n",
       "      <td>0.8413</td>\n",
       "    </tr>\n",
       "    <tr>\n",
       "      <th>2</th>\n",
       "      <td>22022</td>\n",
       "      <td>22200320</td>\n",
       "      <td>11/30/2022</td>\n",
       "      <td>DEN</td>\n",
       "      <td>HOU</td>\n",
       "      <td>1</td>\n",
       "      <td>116.59</td>\n",
       "      <td>115.96</td>\n",
       "      <td>0.65</td>\n",
       "      <td>62.85</td>\n",
       "      <td>...</td>\n",
       "      <td>50.01</td>\n",
       "      <td>39.2</td>\n",
       "      <td>84.5</td>\n",
       "      <td>0.4641</td>\n",
       "      <td>13.1</td>\n",
       "      <td>35.9</td>\n",
       "      <td>0.3599</td>\n",
       "      <td>21.1</td>\n",
       "      <td>26.8</td>\n",
       "      <td>0.7824</td>\n",
       "    </tr>\n",
       "    <tr>\n",
       "      <th>3</th>\n",
       "      <td>22022</td>\n",
       "      <td>22200321</td>\n",
       "      <td>11/30/2022</td>\n",
       "      <td>PHX</td>\n",
       "      <td>CHI</td>\n",
       "      <td>1</td>\n",
       "      <td>117.49</td>\n",
       "      <td>113.10</td>\n",
       "      <td>4.39</td>\n",
       "      <td>59.95</td>\n",
       "      <td>...</td>\n",
       "      <td>49.46</td>\n",
       "      <td>42.7</td>\n",
       "      <td>88.4</td>\n",
       "      <td>0.4844</td>\n",
       "      <td>10.1</td>\n",
       "      <td>29.2</td>\n",
       "      <td>0.3345</td>\n",
       "      <td>16.3</td>\n",
       "      <td>20.2</td>\n",
       "      <td>0.8044</td>\n",
       "    </tr>\n",
       "    <tr>\n",
       "      <th>4</th>\n",
       "      <td>22022</td>\n",
       "      <td>22200316</td>\n",
       "      <td>11/30/2022</td>\n",
       "      <td>NYK</td>\n",
       "      <td>MIL</td>\n",
       "      <td>0</td>\n",
       "      <td>117.43</td>\n",
       "      <td>116.49</td>\n",
       "      <td>0.93</td>\n",
       "      <td>56.85</td>\n",
       "      <td>...</td>\n",
       "      <td>48.97</td>\n",
       "      <td>41.2</td>\n",
       "      <td>89.4</td>\n",
       "      <td>0.4628</td>\n",
       "      <td>12.9</td>\n",
       "      <td>35.8</td>\n",
       "      <td>0.3591</td>\n",
       "      <td>16.8</td>\n",
       "      <td>24.0</td>\n",
       "      <td>0.6986</td>\n",
       "    </tr>\n",
       "  </tbody>\n",
       "</table>\n",
       "<p>5 rows × 52 columns</p>\n",
       "</div>"
      ],
      "text/plain": [
       "   SEASON_ID   GAME_ID   GAME_DATE Team_Home Team_Away  Home_Team_Won  \\\n",
       "0      22022  22200315  11/30/2022       BKN       WAS              1   \n",
       "1      22022  22200313  11/30/2022       ORL       ATL              0   \n",
       "2      22022  22200320  11/30/2022       DEN       HOU              1   \n",
       "3      22022  22200321  11/30/2022       PHX       CHI              1   \n",
       "4      22022  22200316  11/30/2022       NYK       MIL              0   \n",
       "\n",
       "   H_Recent_OffRtg  H_Recent_DefRtg  H_Recent_NetRtg  H_Recent_AST%  ...  \\\n",
       "0           113.81           113.54             0.28          64.75  ...   \n",
       "1           108.54           115.23            -6.67          54.99  ...   \n",
       "2           116.59           115.96             0.65          62.85  ...   \n",
       "3           117.49           113.10             4.39          59.95  ...   \n",
       "4           117.43           116.49             0.93          56.85  ...   \n",
       "\n",
       "   A_Recent_PIE  A_Recent_FGM  A_Recent_FGA  A_Recent_FG_PCT  A_Recent_FG3M  \\\n",
       "0         53.13          42.4          88.8           0.4786           13.5   \n",
       "1         48.25          40.1          88.5           0.4543            9.2   \n",
       "2         50.01          39.2          84.5           0.4641           13.1   \n",
       "3         49.46          42.7          88.4           0.4844           10.1   \n",
       "4         48.97          41.2          89.4           0.4628           12.9   \n",
       "\n",
       "   A_Recent_FG3A  A_Recent_FG3_PCT  A_Recent_FTM  A_Recent_FTA  \\\n",
       "0           35.6            0.3806          16.1          20.9   \n",
       "1           29.3            0.3128          20.3          24.2   \n",
       "2           35.9            0.3599          21.1          26.8   \n",
       "3           29.2            0.3345          16.3          20.2   \n",
       "4           35.8            0.3591          16.8          24.0   \n",
       "\n",
       "   A_Recent_FT_PCT  \n",
       "0           0.7661  \n",
       "1           0.8413  \n",
       "2           0.7824  \n",
       "3           0.8044  \n",
       "4           0.6986  \n",
       "\n",
       "[5 rows x 52 columns]"
      ]
     },
     "execution_count": 5,
     "metadata": {},
     "output_type": "execute_result"
    }
   ],
   "source": [
    "recent_nba_elo_df.head()"
   ]
  },
  {
   "cell_type": "code",
   "execution_count": 6,
   "id": "a49e3100",
   "metadata": {
    "ExecuteTime": {
     "end_time": "2022-12-04T19:41:52.035248Z",
     "start_time": "2022-12-04T19:41:52.005210Z"
    }
   },
   "outputs": [
    {
     "data": {
      "text/html": [
       "<div>\n",
       "<style scoped>\n",
       "    .dataframe tbody tr th:only-of-type {\n",
       "        vertical-align: middle;\n",
       "    }\n",
       "\n",
       "    .dataframe tbody tr th {\n",
       "        vertical-align: top;\n",
       "    }\n",
       "\n",
       "    .dataframe thead th {\n",
       "        text-align: right;\n",
       "    }\n",
       "</style>\n",
       "<table border=\"1\" class=\"dataframe\">\n",
       "  <thead>\n",
       "    <tr style=\"text-align: right;\">\n",
       "      <th></th>\n",
       "      <th>SEASON_ID</th>\n",
       "      <th>GAME_ID</th>\n",
       "      <th>GAME_DATE</th>\n",
       "      <th>Team_Home</th>\n",
       "      <th>Team_Away</th>\n",
       "      <th>Home_Team_Won</th>\n",
       "      <th>H_Recent_OffRtg</th>\n",
       "      <th>H_Recent_DefRtg</th>\n",
       "      <th>H_Recent_NetRtg</th>\n",
       "      <th>H_Recent_AST%</th>\n",
       "      <th>...</th>\n",
       "      <th>A_Recent_FG3M</th>\n",
       "      <th>A_Recent_FG3A</th>\n",
       "      <th>A_Recent_FG3_PCT</th>\n",
       "      <th>A_Recent_FTM</th>\n",
       "      <th>A_Recent_FTA</th>\n",
       "      <th>A_Recent_FT_PCT</th>\n",
       "      <th>H_Team_Elo_Before</th>\n",
       "      <th>A_Team_Elo_Before</th>\n",
       "      <th>H_Team_Elo_After</th>\n",
       "      <th>A_Team_Elo_After</th>\n",
       "    </tr>\n",
       "  </thead>\n",
       "  <tbody>\n",
       "    <tr>\n",
       "      <th>0</th>\n",
       "      <td>22022</td>\n",
       "      <td>22200315</td>\n",
       "      <td>11/30/2022</td>\n",
       "      <td>BKN</td>\n",
       "      <td>WAS</td>\n",
       "      <td>1</td>\n",
       "      <td>113.81</td>\n",
       "      <td>113.54</td>\n",
       "      <td>0.28</td>\n",
       "      <td>64.75</td>\n",
       "      <td>...</td>\n",
       "      <td>13.5</td>\n",
       "      <td>35.6</td>\n",
       "      <td>0.3806</td>\n",
       "      <td>16.1</td>\n",
       "      <td>20.9</td>\n",
       "      <td>0.7661</td>\n",
       "      <td>1508.845873</td>\n",
       "      <td>1479.702191</td>\n",
       "      <td>1514.322866</td>\n",
       "      <td>1474.225198</td>\n",
       "    </tr>\n",
       "    <tr>\n",
       "      <th>1</th>\n",
       "      <td>22022</td>\n",
       "      <td>22200313</td>\n",
       "      <td>11/30/2022</td>\n",
       "      <td>ORL</td>\n",
       "      <td>ATL</td>\n",
       "      <td>0</td>\n",
       "      <td>108.54</td>\n",
       "      <td>115.23</td>\n",
       "      <td>-6.67</td>\n",
       "      <td>54.99</td>\n",
       "      <td>...</td>\n",
       "      <td>9.2</td>\n",
       "      <td>29.3</td>\n",
       "      <td>0.3128</td>\n",
       "      <td>20.3</td>\n",
       "      <td>24.2</td>\n",
       "      <td>0.8413</td>\n",
       "      <td>1514.335802</td>\n",
       "      <td>1476.034547</td>\n",
       "      <td>1494.701563</td>\n",
       "      <td>1495.668787</td>\n",
       "    </tr>\n",
       "    <tr>\n",
       "      <th>2</th>\n",
       "      <td>22022</td>\n",
       "      <td>22200320</td>\n",
       "      <td>11/30/2022</td>\n",
       "      <td>DEN</td>\n",
       "      <td>HOU</td>\n",
       "      <td>1</td>\n",
       "      <td>116.59</td>\n",
       "      <td>115.96</td>\n",
       "      <td>0.65</td>\n",
       "      <td>62.85</td>\n",
       "      <td>...</td>\n",
       "      <td>13.1</td>\n",
       "      <td>35.9</td>\n",
       "      <td>0.3599</td>\n",
       "      <td>21.1</td>\n",
       "      <td>26.8</td>\n",
       "      <td>0.7824</td>\n",
       "      <td>1501.430648</td>\n",
       "      <td>1536.070776</td>\n",
       "      <td>1516.617087</td>\n",
       "      <td>1520.884336</td>\n",
       "    </tr>\n",
       "    <tr>\n",
       "      <th>3</th>\n",
       "      <td>22022</td>\n",
       "      <td>22200321</td>\n",
       "      <td>11/30/2022</td>\n",
       "      <td>PHX</td>\n",
       "      <td>CHI</td>\n",
       "      <td>1</td>\n",
       "      <td>117.49</td>\n",
       "      <td>113.10</td>\n",
       "      <td>4.39</td>\n",
       "      <td>59.95</td>\n",
       "      <td>...</td>\n",
       "      <td>10.1</td>\n",
       "      <td>29.2</td>\n",
       "      <td>0.3345</td>\n",
       "      <td>16.3</td>\n",
       "      <td>20.2</td>\n",
       "      <td>0.8044</td>\n",
       "      <td>1499.039678</td>\n",
       "      <td>1492.765882</td>\n",
       "      <td>1511.413285</td>\n",
       "      <td>1480.392275</td>\n",
       "    </tr>\n",
       "    <tr>\n",
       "      <th>4</th>\n",
       "      <td>22022</td>\n",
       "      <td>22200316</td>\n",
       "      <td>11/30/2022</td>\n",
       "      <td>NYK</td>\n",
       "      <td>MIL</td>\n",
       "      <td>0</td>\n",
       "      <td>117.43</td>\n",
       "      <td>116.49</td>\n",
       "      <td>0.93</td>\n",
       "      <td>56.85</td>\n",
       "      <td>...</td>\n",
       "      <td>12.9</td>\n",
       "      <td>35.8</td>\n",
       "      <td>0.3591</td>\n",
       "      <td>16.8</td>\n",
       "      <td>24.0</td>\n",
       "      <td>0.6986</td>\n",
       "      <td>1512.233497</td>\n",
       "      <td>1540.532262</td>\n",
       "      <td>1503.790169</td>\n",
       "      <td>1548.975591</td>\n",
       "    </tr>\n",
       "  </tbody>\n",
       "</table>\n",
       "<p>5 rows × 56 columns</p>\n",
       "</div>"
      ],
      "text/plain": [
       "   SEASON_ID   GAME_ID   GAME_DATE Team_Home Team_Away  Home_Team_Won  \\\n",
       "0      22022  22200315  11/30/2022       BKN       WAS              1   \n",
       "1      22022  22200313  11/30/2022       ORL       ATL              0   \n",
       "2      22022  22200320  11/30/2022       DEN       HOU              1   \n",
       "3      22022  22200321  11/30/2022       PHX       CHI              1   \n",
       "4      22022  22200316  11/30/2022       NYK       MIL              0   \n",
       "\n",
       "   H_Recent_OffRtg  H_Recent_DefRtg  H_Recent_NetRtg  H_Recent_AST%  ...  \\\n",
       "0           113.81           113.54             0.28          64.75  ...   \n",
       "1           108.54           115.23            -6.67          54.99  ...   \n",
       "2           116.59           115.96             0.65          62.85  ...   \n",
       "3           117.49           113.10             4.39          59.95  ...   \n",
       "4           117.43           116.49             0.93          56.85  ...   \n",
       "\n",
       "   A_Recent_FG3M  A_Recent_FG3A  A_Recent_FG3_PCT  A_Recent_FTM  A_Recent_FTA  \\\n",
       "0           13.5           35.6            0.3806          16.1          20.9   \n",
       "1            9.2           29.3            0.3128          20.3          24.2   \n",
       "2           13.1           35.9            0.3599          21.1          26.8   \n",
       "3           10.1           29.2            0.3345          16.3          20.2   \n",
       "4           12.9           35.8            0.3591          16.8          24.0   \n",
       "\n",
       "   A_Recent_FT_PCT  H_Team_Elo_Before  A_Team_Elo_Before  H_Team_Elo_After  \\\n",
       "0           0.7661        1508.845873        1479.702191       1514.322866   \n",
       "1           0.8413        1514.335802        1476.034547       1494.701563   \n",
       "2           0.7824        1501.430648        1536.070776       1516.617087   \n",
       "3           0.8044        1499.039678        1492.765882       1511.413285   \n",
       "4           0.6986        1512.233497        1540.532262       1503.790169   \n",
       "\n",
       "   A_Team_Elo_After  \n",
       "0       1474.225198  \n",
       "1       1495.668787  \n",
       "2       1520.884336  \n",
       "3       1480.392275  \n",
       "4       1548.975591  \n",
       "\n",
       "[5 rows x 56 columns]"
      ]
     },
     "execution_count": 6,
     "metadata": {},
     "output_type": "execute_result"
    }
   ],
   "source": [
    "recent_team_elo_df.head()"
   ]
  },
  {
   "cell_type": "code",
   "execution_count": 7,
   "id": "f2903a85",
   "metadata": {
    "ExecuteTime": {
     "end_time": "2022-12-04T19:41:52.067208Z",
     "start_time": "2022-12-04T19:41:52.037217Z"
    }
   },
   "outputs": [
    {
     "data": {
      "text/html": [
       "<div>\n",
       "<style scoped>\n",
       "    .dataframe tbody tr th:only-of-type {\n",
       "        vertical-align: middle;\n",
       "    }\n",
       "\n",
       "    .dataframe tbody tr th {\n",
       "        vertical-align: top;\n",
       "    }\n",
       "\n",
       "    .dataframe thead th {\n",
       "        text-align: right;\n",
       "    }\n",
       "</style>\n",
       "<table border=\"1\" class=\"dataframe\">\n",
       "  <thead>\n",
       "    <tr style=\"text-align: right;\">\n",
       "      <th></th>\n",
       "      <th>YM</th>\n",
       "      <th>TEAM</th>\n",
       "      <th>GAME_ID</th>\n",
       "      <th>WIN</th>\n",
       "      <th>PLAYER_WIN%</th>\n",
       "      <th>TEAM_WIN%</th>\n",
       "      <th>w_TS%_1</th>\n",
       "      <th>w_PIE_1</th>\n",
       "      <th>w_GAME_SCORE_1</th>\n",
       "      <th>w_+/-_1</th>\n",
       "      <th>w_PER_1</th>\n",
       "      <th>w_PPP_1</th>\n",
       "      <th>raptor_offense</th>\n",
       "      <th>raptor_defense</th>\n",
       "      <th>predator_offense</th>\n",
       "      <th>predator_defense</th>\n",
       "    </tr>\n",
       "  </thead>\n",
       "  <tbody>\n",
       "    <tr>\n",
       "      <th>0</th>\n",
       "      <td>2015/11</td>\n",
       "      <td>ATL</td>\n",
       "      <td>21500039</td>\n",
       "      <td>1</td>\n",
       "      <td>0.810000</td>\n",
       "      <td>0.588235</td>\n",
       "      <td>4.675835</td>\n",
       "      <td>9.802316</td>\n",
       "      <td>8.719582</td>\n",
       "      <td>1.016775</td>\n",
       "      <td>13.874790</td>\n",
       "      <td>0.893310</td>\n",
       "      <td>-0.382755</td>\n",
       "      <td>0.845590</td>\n",
       "      <td>-0.204075</td>\n",
       "      <td>0.870344</td>\n",
       "    </tr>\n",
       "    <tr>\n",
       "      <th>1</th>\n",
       "      <td>2015/11</td>\n",
       "      <td>ATL</td>\n",
       "      <td>21500055</td>\n",
       "      <td>1</td>\n",
       "      <td>0.885714</td>\n",
       "      <td>0.588235</td>\n",
       "      <td>4.647828</td>\n",
       "      <td>6.794210</td>\n",
       "      <td>6.470584</td>\n",
       "      <td>-0.710061</td>\n",
       "      <td>9.757216</td>\n",
       "      <td>0.602191</td>\n",
       "      <td>-0.775310</td>\n",
       "      <td>0.323370</td>\n",
       "      <td>-0.427876</td>\n",
       "      <td>0.111958</td>\n",
       "    </tr>\n",
       "    <tr>\n",
       "      <th>2</th>\n",
       "      <td>2015/11</td>\n",
       "      <td>ATL</td>\n",
       "      <td>21500062</td>\n",
       "      <td>1</td>\n",
       "      <td>0.800000</td>\n",
       "      <td>0.588235</td>\n",
       "      <td>3.817465</td>\n",
       "      <td>7.731231</td>\n",
       "      <td>7.228008</td>\n",
       "      <td>0.212793</td>\n",
       "      <td>11.303082</td>\n",
       "      <td>0.738383</td>\n",
       "      <td>-0.962853</td>\n",
       "      <td>0.674803</td>\n",
       "      <td>-0.723511</td>\n",
       "      <td>0.574695</td>\n",
       "    </tr>\n",
       "    <tr>\n",
       "      <th>3</th>\n",
       "      <td>2015/11</td>\n",
       "      <td>ATL</td>\n",
       "      <td>21500081</td>\n",
       "      <td>1</td>\n",
       "      <td>0.810000</td>\n",
       "      <td>0.588235</td>\n",
       "      <td>4.560179</td>\n",
       "      <td>8.431909</td>\n",
       "      <td>8.089227</td>\n",
       "      <td>0.088191</td>\n",
       "      <td>12.361634</td>\n",
       "      <td>0.855764</td>\n",
       "      <td>-0.677957</td>\n",
       "      <td>0.661832</td>\n",
       "      <td>-0.445826</td>\n",
       "      <td>0.602772</td>\n",
       "    </tr>\n",
       "    <tr>\n",
       "      <th>4</th>\n",
       "      <td>2015/11</td>\n",
       "      <td>ATL</td>\n",
       "      <td>21500086</td>\n",
       "      <td>1</td>\n",
       "      <td>0.754545</td>\n",
       "      <td>0.588235</td>\n",
       "      <td>3.943707</td>\n",
       "      <td>8.766529</td>\n",
       "      <td>8.259330</td>\n",
       "      <td>0.564550</td>\n",
       "      <td>12.541544</td>\n",
       "      <td>0.802536</td>\n",
       "      <td>-0.822012</td>\n",
       "      <td>0.552367</td>\n",
       "      <td>-0.561523</td>\n",
       "      <td>0.556308</td>\n",
       "    </tr>\n",
       "  </tbody>\n",
       "</table>\n",
       "</div>"
      ],
      "text/plain": [
       "        YM TEAM   GAME_ID  WIN  PLAYER_WIN%  TEAM_WIN%   w_TS%_1   w_PIE_1  \\\n",
       "0  2015/11  ATL  21500039    1     0.810000   0.588235  4.675835  9.802316   \n",
       "1  2015/11  ATL  21500055    1     0.885714   0.588235  4.647828  6.794210   \n",
       "2  2015/11  ATL  21500062    1     0.800000   0.588235  3.817465  7.731231   \n",
       "3  2015/11  ATL  21500081    1     0.810000   0.588235  4.560179  8.431909   \n",
       "4  2015/11  ATL  21500086    1     0.754545   0.588235  3.943707  8.766529   \n",
       "\n",
       "   w_GAME_SCORE_1   w_+/-_1    w_PER_1   w_PPP_1  raptor_offense  \\\n",
       "0        8.719582  1.016775  13.874790  0.893310       -0.382755   \n",
       "1        6.470584 -0.710061   9.757216  0.602191       -0.775310   \n",
       "2        7.228008  0.212793  11.303082  0.738383       -0.962853   \n",
       "3        8.089227  0.088191  12.361634  0.855764       -0.677957   \n",
       "4        8.259330  0.564550  12.541544  0.802536       -0.822012   \n",
       "\n",
       "   raptor_defense  predator_offense  predator_defense  \n",
       "0        0.845590         -0.204075          0.870344  \n",
       "1        0.323370         -0.427876          0.111958  \n",
       "2        0.674803         -0.723511          0.574695  \n",
       "3        0.661832         -0.445826          0.602772  \n",
       "4        0.552367         -0.561523          0.556308  "
      ]
     },
     "execution_count": 7,
     "metadata": {},
     "output_type": "execute_result"
    }
   ],
   "source": [
    "player_team.head()"
   ]
  },
  {
   "cell_type": "markdown",
   "id": "d90a0e02",
   "metadata": {},
   "source": [
    "## Prepare for training"
   ]
  },
  {
   "cell_type": "code",
   "execution_count": 11,
   "id": "a042ea11",
   "metadata": {
    "ExecuteTime": {
     "end_time": "2022-12-04T19:41:52.083339Z",
     "start_time": "2022-12-04T19:41:52.069210Z"
    }
   },
   "outputs": [],
   "source": [
    "nba_elo_cols = ['H_Recent_NetRtg', 'H_Recent_REB%', 'H_Recent_FGA', 'H_Recent_FTM', 'H_Recent_FT_PCT', \\\n",
    "                'A_Recent_DefRtg', 'A_Recent_AST%', 'A_Recent_OREB%', 'A_Recent_DREB%', 'A_Recent_TOV%', \\\n",
    "                'A_Recent_PACE', 'A_Recent_FG3A', 'A_Recent_FG3_PCT', 'A_Recent_FTA', 'A_Recent_FT_PCT']\n",
    "\n",
    "team_elo_cols = ['H_Team_Elo_Before', 'A_Team_Elo_Before', 'H_Recent_NetRtg', 'H_Recent_REB%', \\\n",
    "                 'H_Recent_FGA', 'H_Recent_FTM', 'H_Recent_FT_PCT', 'A_Recent_DefRtg', \\\n",
    "                 'A_Recent_AST%', 'A_Recent_OREB%', 'A_Recent_DREB%', 'A_Recent_TOV%', \\\n",
    "                 'A_Recent_PACE', 'A_Recent_FG3A', 'A_Recent_FG3_PCT', 'A_Recent_FTA', 'A_Recent_FT_PCT']\n",
    "\n",
    "player_cols = ['PLAYER_WIN%', 'w_TS%_1', 'w_PIE_1', 'w_GAME_SCORE_1', 'w_+/-_1', 'w_PER_1', 'w_PPP_1', \\\n",
    "               'raptor_offense', 'raptor_defense', 'predator_offense', 'predator_defense']"
   ]
  },
  {
   "cell_type": "code",
   "execution_count": 12,
   "id": "5ef82bdb",
   "metadata": {
    "ExecuteTime": {
     "end_time": "2022-12-04T19:41:52.098414Z",
     "start_time": "2022-12-04T19:41:52.086871Z"
    }
   },
   "outputs": [],
   "source": [
    "X_nba_elo = recent_nba_elo_df[nba_elo_cols]\n",
    "y_nba_elo = recent_nba_elo_df['Home_Team_Won']\n",
    "\n",
    "X_team_elo = recent_team_elo_df[team_elo_cols]\n",
    "y_team_elo = recent_team_elo_df['Home_Team_Won']\n",
    "\n",
    "X_player = player_team[player_cols]\n",
    "y_player = player_team['WIN']"
   ]
  },
  {
   "cell_type": "code",
   "execution_count": 13,
   "id": "6fe8cf85",
   "metadata": {
    "ExecuteTime": {
     "end_time": "2022-12-04T19:41:52.129800Z",
     "start_time": "2022-12-04T19:41:52.103219Z"
    }
   },
   "outputs": [
    {
     "data": {
      "text/html": [
       "<div>\n",
       "<style scoped>\n",
       "    .dataframe tbody tr th:only-of-type {\n",
       "        vertical-align: middle;\n",
       "    }\n",
       "\n",
       "    .dataframe tbody tr th {\n",
       "        vertical-align: top;\n",
       "    }\n",
       "\n",
       "    .dataframe thead th {\n",
       "        text-align: right;\n",
       "    }\n",
       "</style>\n",
       "<table border=\"1\" class=\"dataframe\">\n",
       "  <thead>\n",
       "    <tr style=\"text-align: right;\">\n",
       "      <th></th>\n",
       "      <th>Home_Team_Won</th>\n",
       "      <th>Home_Team_Won</th>\n",
       "      <th>WIN</th>\n",
       "    </tr>\n",
       "  </thead>\n",
       "  <tbody>\n",
       "    <tr>\n",
       "      <th>1</th>\n",
       "      <td>4845</td>\n",
       "      <td>4845</td>\n",
       "      <td>8068</td>\n",
       "    </tr>\n",
       "    <tr>\n",
       "      <th>0</th>\n",
       "      <td>3632</td>\n",
       "      <td>3632</td>\n",
       "      <td>8007</td>\n",
       "    </tr>\n",
       "  </tbody>\n",
       "</table>\n",
       "</div>"
      ],
      "text/plain": [
       "   Home_Team_Won  Home_Team_Won   WIN\n",
       "1           4845           4845  8068\n",
       "0           3632           3632  8007"
      ]
     },
     "execution_count": 13,
     "metadata": {},
     "output_type": "execute_result"
    }
   ],
   "source": [
    "one = y_nba_elo.value_counts().to_frame()\n",
    "two = y_team_elo.value_counts().to_frame()\n",
    "three = y_player.value_counts().to_frame()\n",
    "pd.concat([one,two,three],axis=1)"
   ]
  },
  {
   "cell_type": "code",
   "execution_count": 14,
   "id": "39ed2de9",
   "metadata": {
    "ExecuteTime": {
     "end_time": "2022-12-04T19:41:52.177918Z",
     "start_time": "2022-12-04T19:41:52.132160Z"
    }
   },
   "outputs": [],
   "source": [
    "X1 = StandardScaler().fit_transform(X_nba_elo)\n",
    "X2 = StandardScaler().fit_transform(X_team_elo)\n",
    "X3 = StandardScaler().fit_transform(X_player)\n",
    "# X1 = X_nba_elo\n",
    "# X2 = X_team_elo\n",
    "# X3 = X_player\n",
    "\n",
    "X_train1, X_test1, y_train1, y_test1 = train_test_split(X1, y_nba_elo, test_size=0.2, random_state=15, stratify=y_nba_elo)\n",
    "X_train2, X_test2, y_train2, y_test2 = train_test_split(X2, y_team_elo, test_size=0.2, random_state=15, stratify=y_team_elo)\n",
    "X_train3, X_test3, y_train3, y_test3 = train_test_split(X3, y_player, test_size=0.2, random_state=15, stratify=y_player)"
   ]
  },
  {
   "cell_type": "markdown",
   "id": "5af23765",
   "metadata": {},
   "source": [
    "### Logistic Regression"
   ]
  },
  {
   "cell_type": "code",
   "execution_count": 29,
   "id": "e001b9d8",
   "metadata": {
    "ExecuteTime": {
     "end_time": "2022-12-04T19:41:52.193837Z",
     "start_time": "2022-12-04T19:41:52.179798Z"
    }
   },
   "outputs": [],
   "source": [
    "logRe = LogisticRegressionCV(cv=10, penalty='l2', max_iter=500, random_state=15)\n",
    "from sklearn.model_selection import GridSearchCV"
   ]
  },
  {
   "cell_type": "code",
   "execution_count": 30,
   "id": "2985a34d",
   "metadata": {
    "ExecuteTime": {
     "end_time": "2022-12-04T19:41:54.749566Z",
     "start_time": "2022-12-04T19:41:52.195800Z"
    }
   },
   "outputs": [
    {
     "data": {
      "text/html": [
       "<div>\n",
       "<style scoped>\n",
       "    .dataframe tbody tr th:only-of-type {\n",
       "        vertical-align: middle;\n",
       "    }\n",
       "\n",
       "    .dataframe tbody tr th {\n",
       "        vertical-align: top;\n",
       "    }\n",
       "\n",
       "    .dataframe thead th {\n",
       "        text-align: right;\n",
       "    }\n",
       "</style>\n",
       "<table border=\"1\" class=\"dataframe\">\n",
       "  <thead>\n",
       "    <tr style=\"text-align: right;\">\n",
       "      <th></th>\n",
       "      <th>team_recent</th>\n",
       "      <th>team_elo</th>\n",
       "      <th>player_team</th>\n",
       "    </tr>\n",
       "  </thead>\n",
       "  <tbody>\n",
       "    <tr>\n",
       "      <th>F1_score</th>\n",
       "      <td>0.698268</td>\n",
       "      <td>0.695172</td>\n",
       "      <td>0.629426</td>\n",
       "    </tr>\n",
       "    <tr>\n",
       "      <th>R_square</th>\n",
       "      <td>-0.59377</td>\n",
       "      <td>-0.596178</td>\n",
       "      <td>-0.510445</td>\n",
       "    </tr>\n",
       "    <tr>\n",
       "      <th>MSE</th>\n",
       "      <td>0.39033</td>\n",
       "      <td>0.39092</td>\n",
       "      <td>0.377605</td>\n",
       "    </tr>\n",
       "    <tr>\n",
       "      <th>AUC</th>\n",
       "      <td>0.636983</td>\n",
       "      <td>0.639389</td>\n",
       "      <td>0.67467</td>\n",
       "    </tr>\n",
       "    <tr>\n",
       "      <th>ACC</th>\n",
       "      <td>0.60967</td>\n",
       "      <td>0.60908</td>\n",
       "      <td>0.622395</td>\n",
       "    </tr>\n",
       "  </tbody>\n",
       "</table>\n",
       "</div>"
      ],
      "text/plain": [
       "         team_recent  team_elo player_team\n",
       "F1_score    0.698268  0.695172    0.629426\n",
       "R_square    -0.59377 -0.596178   -0.510445\n",
       "MSE          0.39033   0.39092    0.377605\n",
       "AUC         0.636983  0.639389     0.67467\n",
       "ACC          0.60967   0.60908    0.622395"
      ]
     },
     "execution_count": 30,
     "metadata": {},
     "output_type": "execute_result"
    },
    {
     "data": {
      "image/png": "[encoded data removed]",
      "text/plain": [
       "<Figure size 1080x216 with 3 Axes>"
      ]
     },
     "metadata": {
      "needs_background": "light"
     },
     "output_type": "display_data"
    }
   ],
   "source": [
    "data = [(X_train1, y_train1, X_test1, y_test1),\\\n",
    "        (X_train2, y_train2, X_test2, y_test2),\\\n",
    "        (X_train3, y_train3, X_test3, y_test3)]\n",
    "\n",
    "logRe_evaluation = pd.DataFrame(columns=['team_recent','team_elo','player_team'], \\\n",
    "                          index=['F1_score','R_square','MSE','AUC','ACC'])\n",
    "cols = logRe_evaluation.columns.to_list()\n",
    "\n",
    "i = 0\n",
    "fig, ax = plt.subplots(1,3, figsize=(15,3))\n",
    "ax[0].set_title('ROC Curve for NBA Elo Data')\n",
    "ax[1].set_title('ROC Curve for Team Elo Data')\n",
    "ax[2].set_title('ROC Curve for Player Team Data')\n",
    "\n",
    "for xy_pair in data:\n",
    "    X, y = xy_pair[:2]\n",
    "    X_test, y_test = xy_pair[2:]\n",
    "    logRe.fit(X, y)\n",
    "    y_pred = logRe.predict(X_test)\n",
    "    logRe_evaluation.loc['F1_score'][cols[i]] = f1_score(y_test, y_pred)\n",
    "    logRe_evaluation.loc['R_square'][cols[i]] = r2_score(y_test, y_pred)\n",
    "    logRe_evaluation.loc['MSE'][cols[i]] = mean_squared_error(y_test, y_pred)\n",
    "    logRe_evaluation.loc['ACC'][cols[i]] = accuracy_score(y_test, y_pred)\n",
    "    \n",
    "    y_pred_prob = logRe.predict_proba(X_test)[:,1]\n",
    "    logRe_evaluation.loc['AUC'][cols[i]] = roc_auc_score(y_test, y_pred_prob)\n",
    "    \n",
    "    plot_roc_curve(logRe, X_test, y_test, ax=ax[i])\n",
    "    i += 1\n",
    "    \n",
    "logRe_evaluation"
   ]
  },
  {
   "cell_type": "markdown",
   "id": "ffc2fc71",
   "metadata": {},
   "source": [
    "### Decision Tree"
   ]
  },
  {
   "cell_type": "code",
   "execution_count": 22,
   "id": "b8cce4c1",
   "metadata": {
    "ExecuteTime": {
     "end_time": "2022-12-04T19:41:54.765617Z",
     "start_time": "2022-12-04T19:41:54.751616Z"
    }
   },
   "outputs": [],
   "source": [
    "clf_dt = DecisionTreeClassifier(random_state=14)\n",
    "param_grid = {'max_depth':[4,5,6,7,8,9,10,11,12,15,20,30,40,50,70,90,120,150],\n",
    "              \"criterion\": ['gini','entropy']}\n",
    "\n",
    "# Grid search\n",
    "grid_search = GridSearchCV(clf_dt, param_grid=param_grid)"
   ]
  },
  {
   "cell_type": "code",
   "execution_count": 23,
   "id": "a727a8e9",
   "metadata": {
    "ExecuteTime": {
     "end_time": "2022-12-04T19:42:55.413430Z",
     "start_time": "2022-12-04T19:41:54.766616Z"
    }
   },
   "outputs": [
    {
     "name": "stdout",
     "output_type": "stream",
     "text": [
      "Dataset: team_recent, best params: {'criterion': 'entropy', 'max_depth': 4}\n",
      "Dataset: team_elo, best params: {'criterion': 'gini', 'max_depth': 4}\n",
      "Dataset: player_team, best params: {'criterion': 'gini', 'max_depth': 5}\n"
     ]
    },
    {
     "data": {
      "text/html": [
       "<div>\n",
       "<style scoped>\n",
       "    .dataframe tbody tr th:only-of-type {\n",
       "        vertical-align: middle;\n",
       "    }\n",
       "\n",
       "    .dataframe tbody tr th {\n",
       "        vertical-align: top;\n",
       "    }\n",
       "\n",
       "    .dataframe thead th {\n",
       "        text-align: right;\n",
       "    }\n",
       "</style>\n",
       "<table border=\"1\" class=\"dataframe\">\n",
       "  <thead>\n",
       "    <tr style=\"text-align: right;\">\n",
       "      <th></th>\n",
       "      <th>team_recent</th>\n",
       "      <th>team_elo</th>\n",
       "      <th>player_team</th>\n",
       "    </tr>\n",
       "  </thead>\n",
       "  <tbody>\n",
       "    <tr>\n",
       "      <th>F1_score</th>\n",
       "      <td>0.664748</td>\n",
       "      <td>0.668251</td>\n",
       "      <td>0.636179</td>\n",
       "    </tr>\n",
       "    <tr>\n",
       "      <th>R_square</th>\n",
       "      <td>-0.682848</td>\n",
       "      <td>-0.68044</td>\n",
       "      <td>-0.563945</td>\n",
       "    </tr>\n",
       "    <tr>\n",
       "      <th>MSE</th>\n",
       "      <td>0.412146</td>\n",
       "      <td>0.411557</td>\n",
       "      <td>0.39098</td>\n",
       "    </tr>\n",
       "    <tr>\n",
       "      <th>AUC</th>\n",
       "      <td>0.588636</td>\n",
       "      <td>0.589024</td>\n",
       "      <td>0.654041</td>\n",
       "    </tr>\n",
       "    <tr>\n",
       "      <th>ACC</th>\n",
       "      <td>0.587854</td>\n",
       "      <td>0.588443</td>\n",
       "      <td>0.60902</td>\n",
       "    </tr>\n",
       "  </tbody>\n",
       "</table>\n",
       "</div>"
      ],
      "text/plain": [
       "         team_recent  team_elo player_team\n",
       "F1_score    0.664748  0.668251    0.636179\n",
       "R_square   -0.682848  -0.68044   -0.563945\n",
       "MSE         0.412146  0.411557     0.39098\n",
       "AUC         0.588636  0.589024    0.654041\n",
       "ACC         0.587854  0.588443     0.60902"
      ]
     },
     "execution_count": 23,
     "metadata": {},
     "output_type": "execute_result"
    },
    {
     "data": {
      "image/png": "[encoded data removed]",
      "text/plain": [
       "<Figure size 1080x216 with 3 Axes>"
      ]
     },
     "metadata": {
      "needs_background": "light"
     },
     "output_type": "display_data"
    }
   ],
   "source": [
    "data = [(X_train1, y_train1, X_test1, y_test1),\\\n",
    "        (X_train2, y_train2, X_test2, y_test2),\\\n",
    "        (X_train3, y_train3, X_test3, y_test3)]\n",
    "\n",
    "tree_evaluation = pd.DataFrame(columns=['team_recent','team_elo','player_team'], \\\n",
    "                          index=['F1_score','R_square','MSE','AUC','ACC'])\n",
    "cols = tree_evaluation.columns.to_list()\n",
    "\n",
    "i = 0\n",
    "fig, ax = plt.subplots(1,3, figsize=(15,3))\n",
    "ax[0].set_title('ROC Curve for NBA Elo Data')\n",
    "ax[1].set_title('ROC Curve for Team Elo Data')\n",
    "ax[2].set_title('ROC Curve for Player Team Data')\n",
    "\n",
    "for xy_pair in data:\n",
    "    X, y = xy_pair[:2]\n",
    "    X_test, y_test = xy_pair[2:]\n",
    "    \n",
    "    grid_search.fit(X, y)\n",
    "    print('Dataset: {}, best params: {}'.format(cols[i], grid_search.best_params_))\n",
    "    clf_dt.set_params(**grid_search.best_params_)\n",
    "    \n",
    "    clf_dt.fit(X, y)\n",
    "    y_pred = clf_dt.predict(X_test)\n",
    "    tree_evaluation.loc['F1_score'][cols[i]] = f1_score(y_test, y_pred)\n",
    "    tree_evaluation.loc['R_square'][cols[i]] = r2_score(y_test, y_pred)\n",
    "    tree_evaluation.loc['MSE'][cols[i]] = mean_squared_error(y_test, y_pred)\n",
    "    tree_evaluation.loc['ACC'][cols[i]] = accuracy_score(y_test, y_pred)\n",
    "    \n",
    "    y_pred_prob = clf_dt.predict_proba(X_test)[:,1]\n",
    "    tree_evaluation.loc['AUC'][cols[i]] = roc_auc_score(y_test, y_pred_prob)\n",
    "    \n",
    "    plot_roc_curve(clf_dt, X_test, y_test, ax=ax[i])\n",
    "    i += 1\n",
    "    \n",
    "tree_evaluation"
   ]
  },
  {
   "cell_type": "markdown",
   "id": "5bc820d3",
   "metadata": {},
   "source": [
    "### Random forest"
   ]
  },
  {
   "cell_type": "code",
   "execution_count": 26,
   "id": "794d68f2",
   "metadata": {
    "ExecuteTime": {
     "end_time": "2022-12-04T19:42:55.459086Z",
     "start_time": "2022-12-04T19:42:55.414440Z"
    }
   },
   "outputs": [],
   "source": [
    "from sklearn.ensemble import RandomForestClassifier\n",
    "clf_rf = RandomForestClassifier()\n",
    "param_grid = {\"n_estimators\": [1, 10, 50, 100],\n",
    "              \"max_features\": [1, 5, 10, \"auto\"],\n",
    "              \"criterion\": ['gini','entropy'],\n",
    "              \"random_state\": [17]}\n",
    "\n",
    "# Grid search\n",
    "grid_search = GridSearchCV(clf_rf, param_grid=param_grid)"
   ]
  },
  {
   "cell_type": "code",
   "execution_count": 27,
   "id": "88eb1603",
   "metadata": {
    "ExecuteTime": {
     "end_time": "2022-12-04T19:53:59.246576Z",
     "start_time": "2022-12-04T19:42:55.460983Z"
    }
   },
   "outputs": [
    {
     "name": "stdout",
     "output_type": "stream",
     "text": [
      "Dataset: team_recent, best params: {'criterion': 'gini', 'max_features': 'auto', 'n_estimators': 100, 'random_state': 17}\n",
      "Dataset: team_elo, best params: {'criterion': 'entropy', 'max_features': 1, 'n_estimators': 100, 'random_state': 17}\n",
      "Dataset: player_team, best params: {'criterion': 'gini', 'max_features': 1, 'n_estimators': 100, 'random_state': 17}\n"
     ]
    },
    {
     "data": {
      "text/html": [
       "<div>\n",
       "<style scoped>\n",
       "    .dataframe tbody tr th:only-of-type {\n",
       "        vertical-align: middle;\n",
       "    }\n",
       "\n",
       "    .dataframe tbody tr th {\n",
       "        vertical-align: top;\n",
       "    }\n",
       "\n",
       "    .dataframe thead th {\n",
       "        text-align: right;\n",
       "    }\n",
       "</style>\n",
       "<table border=\"1\" class=\"dataframe\">\n",
       "  <thead>\n",
       "    <tr style=\"text-align: right;\">\n",
       "      <th></th>\n",
       "      <th>team_recent</th>\n",
       "      <th>team_elo</th>\n",
       "      <th>player_team</th>\n",
       "    </tr>\n",
       "  </thead>\n",
       "  <tbody>\n",
       "    <tr>\n",
       "      <th>F1_score</th>\n",
       "      <td>0.669191</td>\n",
       "      <td>0.691057</td>\n",
       "      <td>0.626782</td>\n",
       "    </tr>\n",
       "    <tr>\n",
       "      <th>R_square</th>\n",
       "      <td>-0.682848</td>\n",
       "      <td>-0.646735</td>\n",
       "      <td>-0.498003</td>\n",
       "    </tr>\n",
       "    <tr>\n",
       "      <th>MSE</th>\n",
       "      <td>0.412146</td>\n",
       "      <td>0.403302</td>\n",
       "      <td>0.374495</td>\n",
       "    </tr>\n",
       "    <tr>\n",
       "      <th>AUC</th>\n",
       "      <td>0.616466</td>\n",
       "      <td>0.618556</td>\n",
       "      <td>0.654483</td>\n",
       "    </tr>\n",
       "    <tr>\n",
       "      <th>ACC</th>\n",
       "      <td>0.587854</td>\n",
       "      <td>0.596698</td>\n",
       "      <td>0.625505</td>\n",
       "    </tr>\n",
       "  </tbody>\n",
       "</table>\n",
       "</div>"
      ],
      "text/plain": [
       "         team_recent  team_elo player_team\n",
       "F1_score    0.669191  0.691057    0.626782\n",
       "R_square   -0.682848 -0.646735   -0.498003\n",
       "MSE         0.412146  0.403302    0.374495\n",
       "AUC         0.616466  0.618556    0.654483\n",
       "ACC         0.587854  0.596698    0.625505"
      ]
     },
     "execution_count": 27,
     "metadata": {},
     "output_type": "execute_result"
    },
    {
     "data": {
      "image/png": "[encoded data removed]",
      "text/plain": [
       "<Figure size 1080x216 with 3 Axes>"
      ]
     },
     "metadata": {
      "needs_background": "light"
     },
     "output_type": "display_data"
    }
   ],
   "source": [
    "data = [(X_train1, y_train1, X_test1, y_test1),\\\n",
    "        (X_train2, y_train2, X_test2, y_test2),\\\n",
    "        (X_train3, y_train3, X_test3, y_test3)]\n",
    "\n",
    "rf_evaluation = pd.DataFrame(columns=['team_recent','team_elo','player_team'], \\\n",
    "                          index=['F1_score','R_square','MSE','AUC','ACC'])\n",
    "cols = rf_evaluation.columns.to_list()\n",
    "\n",
    "i = 0\n",
    "fig, ax = plt.subplots(1,3, figsize=(15,3))\n",
    "ax[0].set_title('ROC Curve for NBA Elo Data')\n",
    "ax[1].set_title('ROC Curve for Team Elo Data')\n",
    "ax[2].set_title('ROC Curve for Player Team Data')\n",
    "\n",
    "for xy_pair in data:\n",
    "    X, y = xy_pair[:2]\n",
    "    X_test, y_test = xy_pair[2:]\n",
    "    grid_search.fit(X, y)\n",
    "    \n",
    "    print('Dataset: {}, best params: {}'.format(cols[i], grid_search.best_params_))\n",
    "    \n",
    "    clf_rf.set_params(**grid_search.best_params_)\n",
    "    clf_rf.fit(X, y)\n",
    "    y_pred = clf_rf.predict(X_test)\n",
    "    rf_evaluation.loc['F1_score'][cols[i]] = f1_score(y_test, y_pred)\n",
    "    rf_evaluation.loc['R_square'][cols[i]] = r2_score(y_test, y_pred)\n",
    "    rf_evaluation.loc['MSE'][cols[i]] = mean_squared_error(y_test, y_pred)\n",
    "    rf_evaluation.loc['ACC'][cols[i]] = accuracy_score(y_test, y_pred)\n",
    "    \n",
    "    y_pred_prob = clf_rf.predict_proba(X_test)[:,1]\n",
    "    rf_evaluation.loc['AUC'][cols[i]] = roc_auc_score(y_test, y_pred_prob)\n",
    "    \n",
    "    plot_roc_curve(clf_rf, X_test, y_test, ax=ax[i])\n",
    "    i += 1\n",
    "    \n",
    "rf_evaluation"
   ]
  },
  {
   "cell_type": "markdown",
   "id": "be06766e",
   "metadata": {},
   "source": [
    "### XGBoost"
   ]
  },
  {
   "cell_type": "code",
   "execution_count": 24,
   "id": "29a0e0c5",
   "metadata": {
    "ExecuteTime": {
     "end_time": "2022-12-04T19:53:59.293695Z",
     "start_time": "2022-12-04T19:53:59.248577Z"
    }
   },
   "outputs": [],
   "source": [
    "import xgboost\n",
    "clf_xgb = xgboost.XGBClassifier()\n",
    "\n",
    "param_grid = {\"n_estimators\": [10, 100],\n",
    "          \"learning_rate\": [0.01, 0.1, 0.5],\n",
    "          \"random_state\": [17]\n",
    "          }\n",
    "\n",
    "# Grid search\n",
    "grid_search = GridSearchCV(clf_xgb, param_grid=param_grid)"
   ]
  },
  {
   "cell_type": "code",
   "execution_count": 25,
   "id": "c249aefa",
   "metadata": {
    "ExecuteTime": {
     "end_time": "2022-12-04T19:54:26.910110Z",
     "start_time": "2022-12-04T19:53:59.295658Z"
    }
   },
   "outputs": [
    {
     "name": "stdout",
     "output_type": "stream",
     "text": [
      "Dataset: team_recent, best params: {'learning_rate': 0.01, 'n_estimators': 100, 'random_state': 17}\n",
      "Dataset: team_elo, best params: {'learning_rate': 0.01, 'n_estimators': 100, 'random_state': 17}\n",
      "Dataset: player_team, best params: {'learning_rate': 0.01, 'n_estimators': 100, 'random_state': 17}\n"
     ]
    },
    {
     "data": {
      "text/html": [
       "<div>\n",
       "<style scoped>\n",
       "    .dataframe tbody tr th:only-of-type {\n",
       "        vertical-align: middle;\n",
       "    }\n",
       "\n",
       "    .dataframe tbody tr th {\n",
       "        vertical-align: top;\n",
       "    }\n",
       "\n",
       "    .dataframe thead th {\n",
       "        text-align: right;\n",
       "    }\n",
       "</style>\n",
       "<table border=\"1\" class=\"dataframe\">\n",
       "  <thead>\n",
       "    <tr style=\"text-align: right;\">\n",
       "      <th></th>\n",
       "      <th>team_recent</th>\n",
       "      <th>team_elo</th>\n",
       "      <th>player_team</th>\n",
       "    </tr>\n",
       "  </thead>\n",
       "  <tbody>\n",
       "    <tr>\n",
       "      <th>F1_score</th>\n",
       "      <td>0.680891</td>\n",
       "      <td>0.678439</td>\n",
       "      <td>0.654472</td>\n",
       "    </tr>\n",
       "    <tr>\n",
       "      <th>R_square</th>\n",
       "      <td>-0.656365</td>\n",
       "      <td>-0.665995</td>\n",
       "      <td>-0.480584</td>\n",
       "    </tr>\n",
       "    <tr>\n",
       "      <th>MSE</th>\n",
       "      <td>0.40566</td>\n",
       "      <td>0.408019</td>\n",
       "      <td>0.37014</td>\n",
       "    </tr>\n",
       "    <tr>\n",
       "      <th>AUC</th>\n",
       "      <td>0.612158</td>\n",
       "      <td>0.608399</td>\n",
       "      <td>0.680841</td>\n",
       "    </tr>\n",
       "    <tr>\n",
       "      <th>ACC</th>\n",
       "      <td>0.59434</td>\n",
       "      <td>0.591981</td>\n",
       "      <td>0.62986</td>\n",
       "    </tr>\n",
       "  </tbody>\n",
       "</table>\n",
       "</div>"
      ],
      "text/plain": [
       "         team_recent  team_elo player_team\n",
       "F1_score    0.680891  0.678439    0.654472\n",
       "R_square   -0.656365 -0.665995   -0.480584\n",
       "MSE          0.40566  0.408019     0.37014\n",
       "AUC         0.612158  0.608399    0.680841\n",
       "ACC          0.59434  0.591981     0.62986"
      ]
     },
     "execution_count": 25,
     "metadata": {},
     "output_type": "execute_result"
    },
    {
     "data": {
      "image/png": "[encoded data removed]",
      "text/plain": [
       "<Figure size 1080x216 with 3 Axes>"
      ]
     },
     "metadata": {
      "needs_background": "light"
     },
     "output_type": "display_data"
    }
   ],
   "source": [
    "data = [(X_train1, y_train1, X_test1, y_test1),\\\n",
    "        (X_train2, y_train2, X_test2, y_test2),\\\n",
    "        (X_train3, y_train3, X_test3, y_test3)]\n",
    "\n",
    "xg_evaluation = pd.DataFrame(columns=['team_recent','team_elo','player_team'], \\\n",
    "                          index=['F1_score','R_square','MSE','AUC','ACC'])\n",
    "cols = xg_evaluation.columns.to_list()\n",
    "\n",
    "i = 0\n",
    "fig, ax = plt.subplots(1,3, figsize=(15,3))\n",
    "ax[0].set_title('ROC Curve for NBA Elo Data')\n",
    "ax[1].set_title('ROC Curve for Team Elo Data')\n",
    "ax[2].set_title('ROC Curve for Player Team Data')\n",
    "\n",
    "for xy_pair in data:\n",
    "    X, y = xy_pair[:2]\n",
    "    X_test, y_test = xy_pair[2:]\n",
    "    grid_search.fit(X, y)\n",
    "    \n",
    "    print('Dataset: {}, best params: {}'.format(cols[i], grid_search.best_params_))\n",
    "    \n",
    "    clf_xgb.set_params(**grid_search.best_params_)\n",
    "    clf_xgb.fit(X, y)\n",
    "    y_pred = clf_xgb.predict(X_test)\n",
    "    xg_evaluation.loc['F1_score'][cols[i]] = f1_score(y_test, y_pred)\n",
    "    xg_evaluation.loc['R_square'][cols[i]] = r2_score(y_test, y_pred)\n",
    "    xg_evaluation.loc['MSE'][cols[i]] = mean_squared_error(y_test, y_pred)\n",
    "    xg_evaluation.loc['ACC'][cols[i]] = accuracy_score(y_test, y_pred)\n",
    "    \n",
    "    y_pred_prob = clf_xgb.predict_proba(X_test)[:,1]\n",
    "    xg_evaluation.loc['AUC'][cols[i]] = roc_auc_score(y_test, y_pred_prob)\n",
    "    \n",
    "    plot_roc_curve(clf_xgb, X_test, y_test, ax=ax[i])\n",
    "    i += 1\n",
    "    \n",
    "xg_evaluation"
   ]
  },
  {
   "cell_type": "code",
   "execution_count": 73,
   "id": "c1a0d5ac",
   "metadata": {},
   "outputs": [],
   "source": [
    "colors = {'LogistricRegression':'#0751d9',\\\n",
    "          'DecisionTree':'#3974e1',\\\n",
    "          'RandomForest':'#6a97e8',\\\n",
    "          'XGBoost':'#cddcf7'}#'#9cb9f0'}"
   ]
  },
  {
   "cell_type": "code",
   "execution_count": 74,
   "id": "9edfa0ef",
   "metadata": {
    "scrolled": false
   },
   "outputs": [
    {
     "data": {
      "image/png": "[encoded data removed]",
      "text/plain": [
       "<Figure size 720x288 with 1 Axes>"
      ]
     },
     "metadata": {
      "needs_background": "light"
     },
     "output_type": "display_data"
    },
    {
     "data": {
      "image/png": "[encoded data removed]",
      "text/plain": [
       "<Figure size 720x288 with 1 Axes>"
      ]
     },
     "metadata": {
      "needs_background": "light"
     },
     "output_type": "display_data"
    },
    {
     "data": {
      "image/png": "[encoded data removed]",
      "text/plain": [
       "<Figure size 720x288 with 1 Axes>"
      ]
     },
     "metadata": {
      "needs_background": "light"
     },
     "output_type": "display_data"
    }
   ],
   "source": [
    "metrics_df = [logRe_evaluation, tree_evaluation, rf_evaluation, xg_evaluation]\n",
    "\n",
    "data_names = ['team_recent','team_elo','player_team']\n",
    "metric_names = ['MSE','AUC','ACC']\n",
    "\n",
    "model = ['LogistricRegression','DecisionTree','RandomForest','XGBoost']\n",
    "\n",
    "for metric in metric_names:\n",
    "    new = pd.DataFrame(columns=data_names, index=model)\n",
    "    i = 0\n",
    "    for data in data_names:\n",
    "        for m_df in metrics_df:\n",
    "            new.loc[model[i], data] = m_df.loc[metric,data]\n",
    "            i += 1\n",
    "        i = 0\n",
    "\n",
    "    new = new.transpose().reset_index().rename(columns={'index':'Dataset'})\n",
    "    new.plot(x='Dataset',kind='bar',rot=0,stacked=False, color=colors, figsize=(10,4),\\\n",
    "              title='{} Comparison for 3 datasets'.format(metric))\n",
    "    plt.legend(loc='center left', bbox_to_anchor=(1, 0.9))"
   ]
  },
  {
   "cell_type": "code",
   "execution_count": null,
   "id": "b80a6b6a",
   "metadata": {},
   "outputs": [],
   "source": []
  }
 ],
 "metadata": {
  "kernelspec": {
   "display_name": "Python 3 (ipykernel)",
   "language": "python",
   "name": "python3"
  },
  "language_info": {
   "codemirror_mode": {
    "name": "ipython",
    "version": 3
   },
   "file_extension": ".py",
   "mimetype": "text/x-python",
   "name": "python",
   "nbconvert_exporter": "python",
   "pygments_lexer": "ipython3",
   "version": "3.9.12"
  },
  "toc": {
   "base_numbering": 1,
   "nav_menu": {},
   "number_sections": true,
   "sideBar": true,
   "skip_h1_title": false,
   "title_cell": "Table of Contents",
   "title_sidebar": "Contents",
   "toc_cell": false,
   "toc_position": {},
   "toc_section_display": true,
   "toc_window_display": false
  },
  "varInspector": {
   "cols": {
    "lenName": 16,
    "lenType": 16,
    "lenVar": 40
   },
   "kernels_config": {
    "python": {
     "delete_cmd_postfix": "",
     "delete_cmd_prefix": "del ",
     "library": "var_list.py",
     "varRefreshCmd": "print(var_dic_list())"
    },
    "r": {
     "delete_cmd_postfix": ") ",
     "delete_cmd_prefix": "rm(",
     "library": "var_list.r",
     "varRefreshCmd": "cat(var_dic_list()) "
    }
   },
   "types_to_exclude": [
    "module",
    "function",
    "builtin_function_or_method",
    "instance",
    "_Feature"
   ],
   "window_display": false
  }
 },
 "nbformat": 4,
 "nbformat_minor": 5
}
